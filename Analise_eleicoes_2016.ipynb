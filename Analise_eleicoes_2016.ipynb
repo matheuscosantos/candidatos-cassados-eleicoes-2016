{
  "nbformat": 4,
  "nbformat_minor": 0,
  "metadata": {
    "colab": {
      "name": "Analise-eleicoes-2016.ipynb",
      "provenance": [],
      "mount_file_id": "1XWEtNdYVDABLTAhWHZfazfq0wLzasDgJ",
      "authorship_tag": "ABX9TyMDB7g5wXJv5y2xx13RepH+",
      "include_colab_link": true
    },
    "kernelspec": {
      "name": "python3",
      "display_name": "Python 3"
    }
  },
  "cells": [
    {
      "cell_type": "markdown",
      "metadata": {
        "id": "view-in-github",
        "colab_type": "text"
      },
      "source": [
        "<a href=\"https://colab.research.google.com/github/matheuscosantos/candidatos-cassados-eleicoes-2016/blob/main/Analise_eleicoes_2016.ipynb\" target=\"_parent\"><img src=\"https://colab.research.google.com/assets/colab-badge.svg\" alt=\"Open In Colab\"/></a>"
      ]
    },
    {
      "cell_type": "markdown",
      "metadata": {
        "id": "RaNIVwnCeuW_"
      },
      "source": [
        "# Análise de sobre candidatos cassados nas eleições municipais de 2016"
      ]
    },
    {
      "cell_type": "markdown",
      "metadata": {
        "id": "om7rKqux2d-1"
      },
      "source": [
        "### Autor: Matheus da Cruz Oliveira dos Santos\n",
        "### Fonte: https://brasil.io/dataset/eleicoes-brasil/candidatos/"
      ]
    },
    {
      "cell_type": "code",
      "metadata": {
        "id": "KJLx-UUVetaf"
      },
      "source": [
        "import pandas as pd\n",
        "cassado_com_recurso = pd.read_csv(\"/content/drive/My Drive/Dados/eleicoes-brasil-cassado-com-recurso.csv\")\n",
        "cassado = pd.read_csv(\"/content/drive/My Drive/Dados/eleicoes-brasil-cassados.csv\")\n",
        "frames = [cassado_com_recurso, cassado]\n",
        "dados = pd.concat(frames)"
      ],
      "execution_count": 3,
      "outputs": []
    },
    {
      "cell_type": "markdown",
      "metadata": {
        "id": "JTbIUGET1jk_"
      },
      "source": [
        "## Candidatos cassados ou cassados com recurso"
      ]
    },
    {
      "cell_type": "code",
      "metadata": {
        "id": "hOLesBa3yyy-",
        "outputId": "f4c9681a-53c7-42c9-ea5d-b46e0e7f5476",
        "colab": {
          "base_uri": "https://localhost:8080/",
          "height": 111
        }
      },
      "source": [
        "quantidade = dados['des_situacao_candidatura'].to_frame() \\\n",
        "                                              .reset_index() \\\n",
        "                                              .groupby(by='des_situacao_candidatura') \\\n",
        "                                              .count()\n",
        "quantidade = quantidade.reset_index()\n",
        "quantidade.columns = ['situação', 'quantidade']\n",
        "quantidade"
      ],
      "execution_count": 53,
      "outputs": [
        {
          "output_type": "execute_result",
          "data": {
            "text/html": [
              "<div>\n",
              "<style scoped>\n",
              "    .dataframe tbody tr th:only-of-type {\n",
              "        vertical-align: middle;\n",
              "    }\n",
              "\n",
              "    .dataframe tbody tr th {\n",
              "        vertical-align: top;\n",
              "    }\n",
              "\n",
              "    .dataframe thead th {\n",
              "        text-align: right;\n",
              "    }\n",
              "</style>\n",
              "<table border=\"1\" class=\"dataframe\">\n",
              "  <thead>\n",
              "    <tr style=\"text-align: right;\">\n",
              "      <th></th>\n",
              "      <th>situação</th>\n",
              "      <th>quantidade</th>\n",
              "    </tr>\n",
              "  </thead>\n",
              "  <tbody>\n",
              "    <tr>\n",
              "      <th>0</th>\n",
              "      <td>CASSADO</td>\n",
              "      <td>102</td>\n",
              "    </tr>\n",
              "    <tr>\n",
              "      <th>1</th>\n",
              "      <td>CASSADO COM RECURSO</td>\n",
              "      <td>35</td>\n",
              "    </tr>\n",
              "  </tbody>\n",
              "</table>\n",
              "</div>"
            ],
            "text/plain": [
              "              situação  quantidade\n",
              "0              CASSADO         102\n",
              "1  CASSADO COM RECURSO          35"
            ]
          },
          "metadata": {
            "tags": []
          },
          "execution_count": 53
        }
      ]
    },
    {
      "cell_type": "markdown",
      "metadata": {
        "id": "yOXqtHF33lAl"
      },
      "source": [
        "## Candidatos cassados ou cassados com recurso por estado.\n",
        "### Obs.: A quantidade de políticos cassados no estado do Piauí é elevado.\n"
      ]
    },
    {
      "cell_type": "code",
      "metadata": {
        "id": "wXPnKZ7K2zhJ",
        "outputId": "e00e95f1-1f29-4bae-94e3-b996075792e7",
        "colab": {
          "base_uri": "https://localhost:8080/",
          "height": 204
        }
      },
      "source": [
        "quantidade_por_estado = dados['sigla_uf'].to_frame() \\\n",
        "                                         .reset_index() \\\n",
        "                                         .groupby(by='sigla_uf') \\\n",
        "                                         .count() \\\n",
        "                                         .sort_values(['index'], ascending=False) \\\n",
        "                                         .head()\n",
        "\n",
        "quantidade_por_estado = quantidade_por_estado.reset_index()\n",
        "quantidade_por_estado.columns = ['estado', 'quantidade']\n",
        "quantidade_por_estado"
      ],
      "execution_count": 54,
      "outputs": [
        {
          "output_type": "execute_result",
          "data": {
            "text/html": [
              "<div>\n",
              "<style scoped>\n",
              "    .dataframe tbody tr th:only-of-type {\n",
              "        vertical-align: middle;\n",
              "    }\n",
              "\n",
              "    .dataframe tbody tr th {\n",
              "        vertical-align: top;\n",
              "    }\n",
              "\n",
              "    .dataframe thead th {\n",
              "        text-align: right;\n",
              "    }\n",
              "</style>\n",
              "<table border=\"1\" class=\"dataframe\">\n",
              "  <thead>\n",
              "    <tr style=\"text-align: right;\">\n",
              "      <th></th>\n",
              "      <th>estado</th>\n",
              "      <th>quantidade</th>\n",
              "    </tr>\n",
              "  </thead>\n",
              "  <tbody>\n",
              "    <tr>\n",
              "      <th>0</th>\n",
              "      <td>SP</td>\n",
              "      <td>50</td>\n",
              "    </tr>\n",
              "    <tr>\n",
              "      <th>1</th>\n",
              "      <td>PI</td>\n",
              "      <td>45</td>\n",
              "    </tr>\n",
              "    <tr>\n",
              "      <th>2</th>\n",
              "      <td>SC</td>\n",
              "      <td>11</td>\n",
              "    </tr>\n",
              "    <tr>\n",
              "      <th>3</th>\n",
              "      <td>RS</td>\n",
              "      <td>5</td>\n",
              "    </tr>\n",
              "    <tr>\n",
              "      <th>4</th>\n",
              "      <td>GO</td>\n",
              "      <td>4</td>\n",
              "    </tr>\n",
              "  </tbody>\n",
              "</table>\n",
              "</div>"
            ],
            "text/plain": [
              "  estado  quantidade\n",
              "0     SP          50\n",
              "1     PI          45\n",
              "2     SC          11\n",
              "3     RS           5\n",
              "4     GO           4"
            ]
          },
          "metadata": {
            "tags": []
          },
          "execution_count": 54
        }
      ]
    },
    {
      "cell_type": "markdown",
      "metadata": {
        "id": "Ctjnu2Mh5E_i"
      },
      "source": [
        "## Candidatos cassados ou cassados com recurso por partido\n"
      ]
    },
    {
      "cell_type": "code",
      "metadata": {
        "id": "msDuiJUs4uFF",
        "outputId": "fe3cd35d-57fa-4633-d3b0-e2ebfb41e960",
        "colab": {
          "base_uri": "https://localhost:8080/",
          "height": 359
        }
      },
      "source": [
        "quantidade_por_partido = dados['sigla_partido'].to_frame() \\\n",
        "                                               .reset_index() \\\n",
        "                                               .groupby(by='sigla_partido') \\\n",
        "                                               .count() \\\n",
        "                                               .sort_values(['index'], ascending=False) \\\n",
        "                                               .head(10)\n",
        "\n",
        "quantidade_por_partido = quantidade_por_partido.reset_index()\n",
        "quantidade_por_partido.columns = ['partido', 'quantidade']\n",
        "quantidade_por_partido"
      ],
      "execution_count": 55,
      "outputs": [
        {
          "output_type": "execute_result",
          "data": {
            "text/html": [
              "<div>\n",
              "<style scoped>\n",
              "    .dataframe tbody tr th:only-of-type {\n",
              "        vertical-align: middle;\n",
              "    }\n",
              "\n",
              "    .dataframe tbody tr th {\n",
              "        vertical-align: top;\n",
              "    }\n",
              "\n",
              "    .dataframe thead th {\n",
              "        text-align: right;\n",
              "    }\n",
              "</style>\n",
              "<table border=\"1\" class=\"dataframe\">\n",
              "  <thead>\n",
              "    <tr style=\"text-align: right;\">\n",
              "      <th></th>\n",
              "      <th>partido</th>\n",
              "      <th>quantidade</th>\n",
              "    </tr>\n",
              "  </thead>\n",
              "  <tbody>\n",
              "    <tr>\n",
              "      <th>0</th>\n",
              "      <td>PTB</td>\n",
              "      <td>19</td>\n",
              "    </tr>\n",
              "    <tr>\n",
              "      <th>1</th>\n",
              "      <td>PR</td>\n",
              "      <td>11</td>\n",
              "    </tr>\n",
              "    <tr>\n",
              "      <th>2</th>\n",
              "      <td>PMDB</td>\n",
              "      <td>10</td>\n",
              "    </tr>\n",
              "    <tr>\n",
              "      <th>3</th>\n",
              "      <td>PSDB</td>\n",
              "      <td>10</td>\n",
              "    </tr>\n",
              "    <tr>\n",
              "      <th>4</th>\n",
              "      <td>PSD</td>\n",
              "      <td>10</td>\n",
              "    </tr>\n",
              "    <tr>\n",
              "      <th>5</th>\n",
              "      <td>PSB</td>\n",
              "      <td>9</td>\n",
              "    </tr>\n",
              "    <tr>\n",
              "      <th>6</th>\n",
              "      <td>PPS</td>\n",
              "      <td>9</td>\n",
              "    </tr>\n",
              "    <tr>\n",
              "      <th>7</th>\n",
              "      <td>PTC</td>\n",
              "      <td>8</td>\n",
              "    </tr>\n",
              "    <tr>\n",
              "      <th>8</th>\n",
              "      <td>PP</td>\n",
              "      <td>7</td>\n",
              "    </tr>\n",
              "    <tr>\n",
              "      <th>9</th>\n",
              "      <td>DEM</td>\n",
              "      <td>6</td>\n",
              "    </tr>\n",
              "  </tbody>\n",
              "</table>\n",
              "</div>"
            ],
            "text/plain": [
              "  partido  quantidade\n",
              "0     PTB          19\n",
              "1      PR          11\n",
              "2    PMDB          10\n",
              "3    PSDB          10\n",
              "4     PSD          10\n",
              "5     PSB           9\n",
              "6     PPS           9\n",
              "7     PTC           8\n",
              "8      PP           7\n",
              "9     DEM           6"
            ]
          },
          "metadata": {
            "tags": []
          },
          "execution_count": 55
        }
      ]
    },
    {
      "cell_type": "markdown",
      "metadata": {
        "id": "PuHVu1BC5hQS"
      },
      "source": [
        "## Candidatos cassados ou cassados com recurso e eleitos\n"
      ]
    },
    {
      "cell_type": "code",
      "metadata": {
        "id": "21VUc8kg5PpV",
        "outputId": "3722b8dd-d388-4b14-ca50-2bd1d699e79f",
        "colab": {
          "base_uri": "https://localhost:8080/",
          "height": 173
        }
      },
      "source": [
        "descricao = dados['desc_sit_tot_turno'].to_frame() \\\n",
        "                                       .reset_index() \\\n",
        "                                       .groupby(by='desc_sit_tot_turno') \\\n",
        "                                       .count() \\\n",
        "                                       .sort_values(['index'], ascending=False)\n",
        "\n",
        "descricao = descricao.reset_index()\n",
        "descricao.columns = ['descrição', 'quantidade']\n",
        "descricao"
      ],
      "execution_count": 56,
      "outputs": [
        {
          "output_type": "execute_result",
          "data": {
            "text/html": [
              "<div>\n",
              "<style scoped>\n",
              "    .dataframe tbody tr th:only-of-type {\n",
              "        vertical-align: middle;\n",
              "    }\n",
              "\n",
              "    .dataframe tbody tr th {\n",
              "        vertical-align: top;\n",
              "    }\n",
              "\n",
              "    .dataframe thead th {\n",
              "        text-align: right;\n",
              "    }\n",
              "</style>\n",
              "<table border=\"1\" class=\"dataframe\">\n",
              "  <thead>\n",
              "    <tr style=\"text-align: right;\">\n",
              "      <th></th>\n",
              "      <th>descrição</th>\n",
              "      <th>quantidade</th>\n",
              "    </tr>\n",
              "  </thead>\n",
              "  <tbody>\n",
              "    <tr>\n",
              "      <th>0</th>\n",
              "      <td>NÃO ELEITO</td>\n",
              "      <td>108</td>\n",
              "    </tr>\n",
              "    <tr>\n",
              "      <th>1</th>\n",
              "      <td>ELEITO</td>\n",
              "      <td>16</td>\n",
              "    </tr>\n",
              "    <tr>\n",
              "      <th>2</th>\n",
              "      <td>ELEITO POR QP</td>\n",
              "      <td>7</td>\n",
              "    </tr>\n",
              "    <tr>\n",
              "      <th>3</th>\n",
              "      <td>SUPLENTE</td>\n",
              "      <td>3</td>\n",
              "    </tr>\n",
              "  </tbody>\n",
              "</table>\n",
              "</div>"
            ],
            "text/plain": [
              "       descrição  quantidade\n",
              "0     NÃO ELEITO         108\n",
              "1         ELEITO          16\n",
              "2  ELEITO POR QP           7\n",
              "3       SUPLENTE           3"
            ]
          },
          "metadata": {
            "tags": []
          },
          "execution_count": 56
        }
      ]
    },
    {
      "cell_type": "markdown",
      "metadata": {
        "id": "31Wl7ny0_YPQ"
      },
      "source": [
        "## Candidatos cassados ou cassados agrupados por sexo\n"
      ]
    },
    {
      "cell_type": "code",
      "metadata": {
        "id": "I6J9OY8l_BNY",
        "outputId": "245d4214-d15f-43a3-f548-bbdd083c1c29",
        "colab": {
          "base_uri": "https://localhost:8080/",
          "height": 111
        }
      },
      "source": [
        "orientacao = dados['descricao_sexo'].to_frame() \\\n",
        "                                    .reset_index() \\\n",
        "                                    .groupby(by='descricao_sexo') \\\n",
        "                                    .count() \\\n",
        "                                    .sort_values(['index'], ascending=False)\n",
        "\n",
        "orientacao = orientacao.reset_index()\n",
        "orientacao.columns = ['orientação sexual', 'quantidade']\n",
        "orientacao"
      ],
      "execution_count": 57,
      "outputs": [
        {
          "output_type": "execute_result",
          "data": {
            "text/html": [
              "<div>\n",
              "<style scoped>\n",
              "    .dataframe tbody tr th:only-of-type {\n",
              "        vertical-align: middle;\n",
              "    }\n",
              "\n",
              "    .dataframe tbody tr th {\n",
              "        vertical-align: top;\n",
              "    }\n",
              "\n",
              "    .dataframe thead th {\n",
              "        text-align: right;\n",
              "    }\n",
              "</style>\n",
              "<table border=\"1\" class=\"dataframe\">\n",
              "  <thead>\n",
              "    <tr style=\"text-align: right;\">\n",
              "      <th></th>\n",
              "      <th>orientação sexual</th>\n",
              "      <th>quantidade</th>\n",
              "    </tr>\n",
              "  </thead>\n",
              "  <tbody>\n",
              "    <tr>\n",
              "      <th>0</th>\n",
              "      <td>MASCULINO</td>\n",
              "      <td>102</td>\n",
              "    </tr>\n",
              "    <tr>\n",
              "      <th>1</th>\n",
              "      <td>FEMININO</td>\n",
              "      <td>35</td>\n",
              "    </tr>\n",
              "  </tbody>\n",
              "</table>\n",
              "</div>"
            ],
            "text/plain": [
              "  orientação sexual  quantidade\n",
              "0         MASCULINO         102\n",
              "1          FEMININO          35"
            ]
          },
          "metadata": {
            "tags": []
          },
          "execution_count": 57
        }
      ]
    },
    {
      "cell_type": "markdown",
      "metadata": {
        "id": "3UHoQIym8xn7"
      },
      "source": [
        "## Candidatos cassados e que foram eleitos. Obs.: A maioria das cidades dessa lista possuem prefeitos e vice-prefeitos cassados e estão no Estado de São Paulo "
      ]
    },
    {
      "cell_type": "code",
      "metadata": {
        "id": "OPrXOmbc6ANF",
        "outputId": "2a3c12dd-3de3-4b28-e661-329b0ce855d4",
        "colab": {
          "base_uri": "https://localhost:8080/",
          "height": 545
        }
      },
      "source": [
        "eleitos = dados.query('desc_sit_tot_turno == \"ELEITO\"') \\\n",
        "               .sort_values(['descricao_ue'], ascending=False)\n",
        "eleitos = eleitos.drop(columns=['cpf_candidato','num_turno','numero_candidato','data_nascimento','descricao_sexo'])\n",
        "eleitos.columns = ['ano', 'uf', 'município', 'cargo', 'partido', 'nome', 'nome na urna', 'situação', 'descrição']\n",
        "eleitos\n",
        "\n"
      ],
      "execution_count": 58,
      "outputs": [
        {
          "output_type": "execute_result",
          "data": {
            "text/html": [
              "<div>\n",
              "<style scoped>\n",
              "    .dataframe tbody tr th:only-of-type {\n",
              "        vertical-align: middle;\n",
              "    }\n",
              "\n",
              "    .dataframe tbody tr th {\n",
              "        vertical-align: top;\n",
              "    }\n",
              "\n",
              "    .dataframe thead th {\n",
              "        text-align: right;\n",
              "    }\n",
              "</style>\n",
              "<table border=\"1\" class=\"dataframe\">\n",
              "  <thead>\n",
              "    <tr style=\"text-align: right;\">\n",
              "      <th></th>\n",
              "      <th>ano</th>\n",
              "      <th>uf</th>\n",
              "      <th>município</th>\n",
              "      <th>cargo</th>\n",
              "      <th>partido</th>\n",
              "      <th>nome</th>\n",
              "      <th>nome na urna</th>\n",
              "      <th>situação</th>\n",
              "      <th>descrição</th>\n",
              "    </tr>\n",
              "  </thead>\n",
              "  <tbody>\n",
              "    <tr>\n",
              "      <th>100</th>\n",
              "      <td>2016</td>\n",
              "      <td>SP</td>\n",
              "      <td>TURMALINA</td>\n",
              "      <td>PREFEITO</td>\n",
              "      <td>PTB</td>\n",
              "      <td>FERNANDA DE MENEZES ANDRÉA</td>\n",
              "      <td>FERNANDA</td>\n",
              "      <td>CASSADO</td>\n",
              "      <td>ELEITO</td>\n",
              "    </tr>\n",
              "    <tr>\n",
              "      <th>101</th>\n",
              "      <td>2016</td>\n",
              "      <td>SP</td>\n",
              "      <td>TURMALINA</td>\n",
              "      <td>VICE-PREFEITO</td>\n",
              "      <td>PTB</td>\n",
              "      <td>ALCIR ANTONIO DE AQUINO</td>\n",
              "      <td>ALCIR</td>\n",
              "      <td>CASSADO</td>\n",
              "      <td>ELEITO</td>\n",
              "    </tr>\n",
              "    <tr>\n",
              "      <th>33</th>\n",
              "      <td>2016</td>\n",
              "      <td>SP</td>\n",
              "      <td>SANTA CRUZ DAS PALMEIRAS</td>\n",
              "      <td>PREFEITO</td>\n",
              "      <td>PTB</td>\n",
              "      <td>THIAGO DE OLIVEIRA</td>\n",
              "      <td>THIAGO DO TRABALHADOR</td>\n",
              "      <td>CASSADO COM RECURSO</td>\n",
              "      <td>ELEITO</td>\n",
              "    </tr>\n",
              "    <tr>\n",
              "      <th>34</th>\n",
              "      <td>2016</td>\n",
              "      <td>SP</td>\n",
              "      <td>SANTA CRUZ DAS PALMEIRAS</td>\n",
              "      <td>VICE-PREFEITO</td>\n",
              "      <td>PTB</td>\n",
              "      <td>JOSIAS RABELO JUNIOR</td>\n",
              "      <td>DR. JOSIAS</td>\n",
              "      <td>CASSADO COM RECURSO</td>\n",
              "      <td>ELEITO</td>\n",
              "    </tr>\n",
              "    <tr>\n",
              "      <th>29</th>\n",
              "      <td>2016</td>\n",
              "      <td>SP</td>\n",
              "      <td>NOVA ODESSA</td>\n",
              "      <td>PREFEITO</td>\n",
              "      <td>PSDB</td>\n",
              "      <td>BENJAMIM BILL VIEIRA DE SOUZA</td>\n",
              "      <td>BILL</td>\n",
              "      <td>CASSADO COM RECURSO</td>\n",
              "      <td>ELEITO</td>\n",
              "    </tr>\n",
              "    <tr>\n",
              "      <th>30</th>\n",
              "      <td>2016</td>\n",
              "      <td>SP</td>\n",
              "      <td>NOVA ODESSA</td>\n",
              "      <td>VICE-PREFEITO</td>\n",
              "      <td>PPS</td>\n",
              "      <td>OSCAR BERGGREN NETO</td>\n",
              "      <td>OSCAR BERGGREN</td>\n",
              "      <td>CASSADO COM RECURSO</td>\n",
              "      <td>ELEITO</td>\n",
              "    </tr>\n",
              "    <tr>\n",
              "      <th>27</th>\n",
              "      <td>2016</td>\n",
              "      <td>SP</td>\n",
              "      <td>MONTE AZUL PAULISTA</td>\n",
              "      <td>PREFEITO</td>\n",
              "      <td>PSDB</td>\n",
              "      <td>PAULO SERGIO DAVID</td>\n",
              "      <td>PAULO DAVID</td>\n",
              "      <td>CASSADO COM RECURSO</td>\n",
              "      <td>ELEITO</td>\n",
              "    </tr>\n",
              "    <tr>\n",
              "      <th>28</th>\n",
              "      <td>2016</td>\n",
              "      <td>SP</td>\n",
              "      <td>MONTE AZUL PAULISTA</td>\n",
              "      <td>VICE-PREFEITO</td>\n",
              "      <td>DEM</td>\n",
              "      <td>FABIO JERONIMO MARQUES</td>\n",
              "      <td>FABINHO</td>\n",
              "      <td>CASSADO COM RECURSO</td>\n",
              "      <td>ELEITO</td>\n",
              "    </tr>\n",
              "    <tr>\n",
              "      <th>20</th>\n",
              "      <td>2016</td>\n",
              "      <td>SP</td>\n",
              "      <td>ITAPURA</td>\n",
              "      <td>PREFEITO</td>\n",
              "      <td>PP</td>\n",
              "      <td>FABIO DOURADO</td>\n",
              "      <td>FABIO DOURADO</td>\n",
              "      <td>CASSADO COM RECURSO</td>\n",
              "      <td>ELEITO</td>\n",
              "    </tr>\n",
              "    <tr>\n",
              "      <th>22</th>\n",
              "      <td>2016</td>\n",
              "      <td>SP</td>\n",
              "      <td>ITAPURA</td>\n",
              "      <td>VICE-PREFEITO</td>\n",
              "      <td>PRB</td>\n",
              "      <td>RODRIGO DE OLIVEIRA PRADO</td>\n",
              "      <td>RODRIGO PRADO</td>\n",
              "      <td>CASSADO COM RECURSO</td>\n",
              "      <td>ELEITO</td>\n",
              "    </tr>\n",
              "    <tr>\n",
              "      <th>18</th>\n",
              "      <td>2016</td>\n",
              "      <td>SP</td>\n",
              "      <td>IBATÉ</td>\n",
              "      <td>PREFEITO</td>\n",
              "      <td>PSDB</td>\n",
              "      <td>JOSE LUIZ PARELLA</td>\n",
              "      <td>ZE PARRELLA</td>\n",
              "      <td>CASSADO COM RECURSO</td>\n",
              "      <td>ELEITO</td>\n",
              "    </tr>\n",
              "    <tr>\n",
              "      <th>16</th>\n",
              "      <td>2016</td>\n",
              "      <td>SP</td>\n",
              "      <td>FLOREAL</td>\n",
              "      <td>PREFEITO</td>\n",
              "      <td>PSDB</td>\n",
              "      <td>JOÃO MANOEL DE CASTILHO</td>\n",
              "      <td>JOÃO MARITACA</td>\n",
              "      <td>CASSADO COM RECURSO</td>\n",
              "      <td>ELEITO</td>\n",
              "    </tr>\n",
              "    <tr>\n",
              "      <th>17</th>\n",
              "      <td>2016</td>\n",
              "      <td>SP</td>\n",
              "      <td>FLOREAL</td>\n",
              "      <td>VICE-PREFEITO</td>\n",
              "      <td>DEM</td>\n",
              "      <td>GILBERTO DE GRANDE</td>\n",
              "      <td>GILBERTO DE GRANDE</td>\n",
              "      <td>CASSADO COM RECURSO</td>\n",
              "      <td>ELEITO</td>\n",
              "    </tr>\n",
              "    <tr>\n",
              "      <th>4</th>\n",
              "      <td>2016</td>\n",
              "      <td>GO</td>\n",
              "      <td>CAMPINAÇU</td>\n",
              "      <td>PREFEITO</td>\n",
              "      <td>PP</td>\n",
              "      <td>MILSON ALVES MAGALHAES</td>\n",
              "      <td>MILSINHO</td>\n",
              "      <td>CASSADO COM RECURSO</td>\n",
              "      <td>ELEITO</td>\n",
              "    </tr>\n",
              "    <tr>\n",
              "      <th>15</th>\n",
              "      <td>2016</td>\n",
              "      <td>SP</td>\n",
              "      <td>CAJAMAR</td>\n",
              "      <td>VICE-PREFEITO</td>\n",
              "      <td>PC do B</td>\n",
              "      <td>DALETE DE OLIVEIRA</td>\n",
              "      <td>DALETE DE OLIVEIRA</td>\n",
              "      <td>CASSADO COM RECURSO</td>\n",
              "      <td>ELEITO</td>\n",
              "    </tr>\n",
              "    <tr>\n",
              "      <th>94</th>\n",
              "      <td>2016</td>\n",
              "      <td>SP</td>\n",
              "      <td>CAJAMAR</td>\n",
              "      <td>PREFEITO</td>\n",
              "      <td>PSB</td>\n",
              "      <td>ANA PAULA POLOTTO RIBAS DE ANDRADE</td>\n",
              "      <td>PAULA RIBAS</td>\n",
              "      <td>CASSADO</td>\n",
              "      <td>ELEITO</td>\n",
              "    </tr>\n",
              "  </tbody>\n",
              "</table>\n",
              "</div>"
            ],
            "text/plain": [
              "      ano  uf  ...             situação descrição\n",
              "100  2016  SP  ...              CASSADO    ELEITO\n",
              "101  2016  SP  ...              CASSADO    ELEITO\n",
              "33   2016  SP  ...  CASSADO COM RECURSO    ELEITO\n",
              "34   2016  SP  ...  CASSADO COM RECURSO    ELEITO\n",
              "29   2016  SP  ...  CASSADO COM RECURSO    ELEITO\n",
              "30   2016  SP  ...  CASSADO COM RECURSO    ELEITO\n",
              "27   2016  SP  ...  CASSADO COM RECURSO    ELEITO\n",
              "28   2016  SP  ...  CASSADO COM RECURSO    ELEITO\n",
              "20   2016  SP  ...  CASSADO COM RECURSO    ELEITO\n",
              "22   2016  SP  ...  CASSADO COM RECURSO    ELEITO\n",
              "18   2016  SP  ...  CASSADO COM RECURSO    ELEITO\n",
              "16   2016  SP  ...  CASSADO COM RECURSO    ELEITO\n",
              "17   2016  SP  ...  CASSADO COM RECURSO    ELEITO\n",
              "4    2016  GO  ...  CASSADO COM RECURSO    ELEITO\n",
              "15   2016  SP  ...  CASSADO COM RECURSO    ELEITO\n",
              "94   2016  SP  ...              CASSADO    ELEITO\n",
              "\n",
              "[16 rows x 9 columns]"
            ]
          },
          "metadata": {
            "tags": []
          },
          "execution_count": 58
        }
      ]
    }
  ]
}