{
  "nbformat": 4,
  "nbformat_minor": 0,
  "metadata": {
    "colab": {
      "name": "Analise-eleicoes-2016.ipynb",
      "provenance": [],
      "mount_file_id": "1XWEtNdYVDABLTAhWHZfazfq0wLzasDgJ",
      "authorship_tag": "ABX9TyNf7RI9ORCE/oMrWLsy1lQu",
      "include_colab_link": true
    },
    "kernelspec": {
      "name": "python3",
      "display_name": "Python 3"
    }
  },
  "cells": [
    {
      "cell_type": "markdown",
      "metadata": {
        "id": "view-in-github",
        "colab_type": "text"
      },
      "source": [
        "<a href=\"https://colab.research.google.com/github/matheuscosantos/candidatos-cassados-eleicoes-2016/blob/main/Analise_eleicoes_2016.ipynb\" target=\"_parent\"><img src=\"https://colab.research.google.com/assets/colab-badge.svg\" alt=\"Open In Colab\"/></a>"
      ]
    },
    {
      "cell_type": "markdown",
      "metadata": {
        "id": "RaNIVwnCeuW_"
      },
      "source": [
        "# Análise de sobre candidatos cassados nas eleições municipais de 2016"
      ]
    },
    {
      "cell_type": "code",
      "metadata": {
        "id": "KJLx-UUVetaf"
      },
      "source": [
        "import pandas as pd\n",
        "cassado_com_recurso = pd.read_csv(\"/content/drive/My Drive/Dados/eleicoes-brasil-cassado-com-recurso.csv\")\n",
        "cassado = pd.read_csv(\"/content/drive/My Drive/Dados/eleicoes-brasil-cassados.csv\")\n",
        "frames = [cassado_com_recurso, cassado]\n",
        "agrupados = pd.concat(frames)"
      ],
      "execution_count": 37,
      "outputs": []
    },
    {
      "cell_type": "markdown",
      "metadata": {
        "id": "JTbIUGET1jk_"
      },
      "source": [
        "# Quantidade de candidatos cassados e cassados com recurso"
      ]
    },
    {
      "cell_type": "code",
      "metadata": {
        "id": "hOLesBa3yyy-",
        "outputId": "96933428-0636-4734-9b25-6be8d3eff078",
        "colab": {
          "base_uri": "https://localhost:8080/",
          "height": 142
        }
      },
      "source": [
        "agrupados['des_situacao_candidatura'].to_frame().reset_index().groupby(by='des_situacao_candidatura').count()"
      ],
      "execution_count": 60,
      "outputs": [
        {
          "output_type": "execute_result",
          "data": {
            "text/html": [
              "<div>\n",
              "<style scoped>\n",
              "    .dataframe tbody tr th:only-of-type {\n",
              "        vertical-align: middle;\n",
              "    }\n",
              "\n",
              "    .dataframe tbody tr th {\n",
              "        vertical-align: top;\n",
              "    }\n",
              "\n",
              "    .dataframe thead th {\n",
              "        text-align: right;\n",
              "    }\n",
              "</style>\n",
              "<table border=\"1\" class=\"dataframe\">\n",
              "  <thead>\n",
              "    <tr style=\"text-align: right;\">\n",
              "      <th></th>\n",
              "      <th>index</th>\n",
              "    </tr>\n",
              "    <tr>\n",
              "      <th>des_situacao_candidatura</th>\n",
              "      <th></th>\n",
              "    </tr>\n",
              "  </thead>\n",
              "  <tbody>\n",
              "    <tr>\n",
              "      <th>CASSADO</th>\n",
              "      <td>102</td>\n",
              "    </tr>\n",
              "    <tr>\n",
              "      <th>CASSADO COM RECURSO</th>\n",
              "      <td>35</td>\n",
              "    </tr>\n",
              "  </tbody>\n",
              "</table>\n",
              "</div>"
            ],
            "text/plain": [
              "                          index\n",
              "des_situacao_candidatura       \n",
              "CASSADO                     102\n",
              "CASSADO COM RECURSO          35"
            ]
          },
          "metadata": {
            "tags": []
          },
          "execution_count": 60
        }
      ]
    }
  ]
}