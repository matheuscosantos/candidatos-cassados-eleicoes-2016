{
  "nbformat": 4,
  "nbformat_minor": 0,
  "metadata": {
    "colab": {
      "name": "Analise-eleicoes-2016.ipynb",
      "provenance": [],
      "collapsed_sections": [],
      "mount_file_id": "1XWEtNdYVDABLTAhWHZfazfq0wLzasDgJ",
      "authorship_tag": "ABX9TyOjsf5BTWMMqBHaqLHZumnc",
      "include_colab_link": true
    },
    "kernelspec": {
      "display_name": "Python 3",
      "name": "python3"
    }
  },
  "cells": [
    {
      "cell_type": "markdown",
      "metadata": {
        "id": "view-in-github",
        "colab_type": "text"
      },
      "source": [
        "<a href=\"https://colab.research.google.com/github/matheuscosantos/candidatos-cassados-eleicoes-2016/blob/main/Analise_eleicoes_2016.ipynb\" target=\"_parent\"><img src=\"https://colab.research.google.com/assets/colab-badge.svg\" alt=\"Open In Colab\"/></a>"
      ]
    },
    {
      "cell_type": "markdown",
      "metadata": {
        "id": "RaNIVwnCeuW_"
      },
      "source": [
        "# Análise de sobre candidatos cassados nas eleições municipais de 2016"
      ]
    },
    {
      "cell_type": "markdown",
      "metadata": {
        "id": "KFw9JdUfe_mD"
      },
      "source": [
        "## Importação das bibliotecas utilizadas"
      ]
    },
    {
      "cell_type": "code",
      "metadata": {
        "id": "1A6_AYmOep4l"
      },
      "source": [
        "import pandas as pd"
      ],
      "execution_count": 84,
      "outputs": []
    },
    {
      "cell_type": "markdown",
      "metadata": {
        "id": "DfAaCdAMfJcc"
      },
      "source": [
        "## Adição dos dados para análise\n"
      ]
    },
    {
      "cell_type": "code",
      "metadata": {
        "id": "KJLx-UUVetaf"
      },
      "source": [
        "cassado_com_recurso = pd.read_csv(\"/content/drive/My Drive/Dados/eleicoes-brasil-cassado-com-recurso.csv\")\n",
        "cassado = pd.read_csv(\"/content/drive/My Drive/Dados/eleicoes-brasil-cassados.csv\")\n",
        "frames = [cassado_com_recurso, cassado]\n",
        "dados = pd.concat(frames)"
      ],
      "execution_count": 85,
      "outputs": []
    },
    {
      "cell_type": "markdown",
      "metadata": {
        "id": "zYBXZRLnB1pY"
      },
      "source": [
        "## Candidatos cassados ou cassados com recurso"
      ]
    },
    {
      "cell_type": "code",
      "metadata": {
        "id": "5WEdD25KkzVV",
        "outputId": "fe4f080b-205f-4eec-fe1c-96b11b3e2264",
        "colab": {
          "base_uri": "https://localhost:8080/",
          "height": 111
        }
      },
      "source": [
        "quantidade = dados['des_situacao_candidatura'].to_frame() \\\n",
        "                                              .reset_index() \\\n",
        "                                              .groupby(by='des_situacao_candidatura') \\\n",
        "                                              .count()\n",
        "quantidade = quantidade.reset_index()\n",
        "quantidade.columns = ['situacao', 'quantidade']\n",
        "quantidade"
      ],
      "execution_count": 86,
      "outputs": [
        {
          "output_type": "execute_result",
          "data": {
            "text/html": [
              "<div>\n",
              "<style scoped>\n",
              "    .dataframe tbody tr th:only-of-type {\n",
              "        vertical-align: middle;\n",
              "    }\n",
              "\n",
              "    .dataframe tbody tr th {\n",
              "        vertical-align: top;\n",
              "    }\n",
              "\n",
              "    .dataframe thead th {\n",
              "        text-align: right;\n",
              "    }\n",
              "</style>\n",
              "<table border=\"1\" class=\"dataframe\">\n",
              "  <thead>\n",
              "    <tr style=\"text-align: right;\">\n",
              "      <th></th>\n",
              "      <th>situacao</th>\n",
              "      <th>quantidade</th>\n",
              "    </tr>\n",
              "  </thead>\n",
              "  <tbody>\n",
              "    <tr>\n",
              "      <th>0</th>\n",
              "      <td>CASSADO</td>\n",
              "      <td>102</td>\n",
              "    </tr>\n",
              "    <tr>\n",
              "      <th>1</th>\n",
              "      <td>CASSADO COM RECURSO</td>\n",
              "      <td>35</td>\n",
              "    </tr>\n",
              "  </tbody>\n",
              "</table>\n",
              "</div>"
            ],
            "text/plain": [
              "              situacao  quantidade\n",
              "0              CASSADO         102\n",
              "1  CASSADO COM RECURSO          35"
            ]
          },
          "metadata": {
            "tags": []
          },
          "execution_count": 86
        }
      ]
    },
    {
      "cell_type": "code",
      "metadata": {
        "id": "uACHor2RgmWR",
        "outputId": "26ff65b6-4be1-4dbf-be27-ac424458bb54",
        "colab": {
          "base_uri": "https://localhost:8080/",
          "height": 320
        }
      },
      "source": [
        "quantidade.plot.pie(y='quantidade',figsize=(5, 5),autopct='%1.1f%%', startangle=90)\n"
      ],
      "execution_count": 87,
      "outputs": [
        {
          "output_type": "execute_result",
          "data": {
            "text/plain": [
              "<matplotlib.axes._subplots.AxesSubplot at 0x7f339d7ef3c8>"
            ]
          },
          "metadata": {
            "tags": []
          },
          "execution_count": 87
        },
        {
          "output_type": "display_data",
          "data": {
            "image/png": "[encoded data removed]",
            "text/plain": [
              "<Figure size 360x360 with 1 Axes>"
            ]
          },
          "metadata": {
            "tags": []
          }
        }
      ]
    },
    {
      "cell_type": "markdown",
      "metadata": {
        "id": "Rs5lwhF4CCkT"
      },
      "source": [
        "## Candidatos cassados ou cassados com recurso por estado.\n",
        "### Obs.: A quantidade de políticos cassados no estado do Piauí é elevado."
      ]
    },
    {
      "cell_type": "code",
      "metadata": {
        "id": "hOLesBa3yyy-",
        "outputId": "f7f5da8e-14d2-4521-ae75-062a696d0193",
        "colab": {
          "base_uri": "https://localhost:8080/",
          "height": 545
        }
      },
      "source": [
        "quantidade_por_estado = dados['sigla_uf'].to_frame() \\\n",
        "                                         .reset_index() \\\n",
        "                                         .groupby(by='sigla_uf') \\\n",
        "                                         .count() \\\n",
        "                                         .sort_values(['index'], ascending=False) \\\n",
        "\n",
        "quantidade_por_estado = quantidade_por_estado.reset_index()\n",
        "quantidade_por_estado.columns = ['estado', 'quantidade']\n",
        "quantidade_por_estado"
      ],
      "execution_count": 88,
      "outputs": [
        {
          "output_type": "execute_result",
          "data": {
            "text/html": [
              "<div>\n",
              "<style scoped>\n",
              "    .dataframe tbody tr th:only-of-type {\n",
              "        vertical-align: middle;\n",
              "    }\n",
              "\n",
              "    .dataframe tbody tr th {\n",
              "        vertical-align: top;\n",
              "    }\n",
              "\n",
              "    .dataframe thead th {\n",
              "        text-align: right;\n",
              "    }\n",
              "</style>\n",
              "<table border=\"1\" class=\"dataframe\">\n",
              "  <thead>\n",
              "    <tr style=\"text-align: right;\">\n",
              "      <th></th>\n",
              "      <th>estado</th>\n",
              "      <th>quantidade</th>\n",
              "    </tr>\n",
              "  </thead>\n",
              "  <tbody>\n",
              "    <tr>\n",
              "      <th>0</th>\n",
              "      <td>SP</td>\n",
              "      <td>50</td>\n",
              "    </tr>\n",
              "    <tr>\n",
              "      <th>1</th>\n",
              "      <td>PI</td>\n",
              "      <td>45</td>\n",
              "    </tr>\n",
              "    <tr>\n",
              "      <th>2</th>\n",
              "      <td>SC</td>\n",
              "      <td>11</td>\n",
              "    </tr>\n",
              "    <tr>\n",
              "      <th>3</th>\n",
              "      <td>RS</td>\n",
              "      <td>5</td>\n",
              "    </tr>\n",
              "    <tr>\n",
              "      <th>4</th>\n",
              "      <td>GO</td>\n",
              "      <td>4</td>\n",
              "    </tr>\n",
              "    <tr>\n",
              "      <th>5</th>\n",
              "      <td>MG</td>\n",
              "      <td>4</td>\n",
              "    </tr>\n",
              "    <tr>\n",
              "      <th>6</th>\n",
              "      <td>RJ</td>\n",
              "      <td>4</td>\n",
              "    </tr>\n",
              "    <tr>\n",
              "      <th>7</th>\n",
              "      <td>CE</td>\n",
              "      <td>3</td>\n",
              "    </tr>\n",
              "    <tr>\n",
              "      <th>8</th>\n",
              "      <td>MA</td>\n",
              "      <td>2</td>\n",
              "    </tr>\n",
              "    <tr>\n",
              "      <th>9</th>\n",
              "      <td>PR</td>\n",
              "      <td>2</td>\n",
              "    </tr>\n",
              "    <tr>\n",
              "      <th>10</th>\n",
              "      <td>SE</td>\n",
              "      <td>2</td>\n",
              "    </tr>\n",
              "    <tr>\n",
              "      <th>11</th>\n",
              "      <td>MS</td>\n",
              "      <td>1</td>\n",
              "    </tr>\n",
              "    <tr>\n",
              "      <th>12</th>\n",
              "      <td>MT</td>\n",
              "      <td>1</td>\n",
              "    </tr>\n",
              "    <tr>\n",
              "      <th>13</th>\n",
              "      <td>PA</td>\n",
              "      <td>1</td>\n",
              "    </tr>\n",
              "    <tr>\n",
              "      <th>14</th>\n",
              "      <td>RN</td>\n",
              "      <td>1</td>\n",
              "    </tr>\n",
              "    <tr>\n",
              "      <th>15</th>\n",
              "      <td>RO</td>\n",
              "      <td>1</td>\n",
              "    </tr>\n",
              "  </tbody>\n",
              "</table>\n",
              "</div>"
            ],
            "text/plain": [
              "   estado  quantidade\n",
              "0      SP          50\n",
              "1      PI          45\n",
              "2      SC          11\n",
              "3      RS           5\n",
              "4      GO           4\n",
              "5      MG           4\n",
              "6      RJ           4\n",
              "7      CE           3\n",
              "8      MA           2\n",
              "9      PR           2\n",
              "10     SE           2\n",
              "11     MS           1\n",
              "12     MT           1\n",
              "13     PA           1\n",
              "14     RN           1\n",
              "15     RO           1"
            ]
          },
          "metadata": {
            "tags": []
          },
          "execution_count": 88
        }
      ]
    },
    {
      "cell_type": "code",
      "metadata": {
        "id": "ozlQW6E3ixKP",
        "outputId": "960d161a-32c1-47b5-c4b8-c3ac892d02c6",
        "colab": {
          "base_uri": "https://localhost:8080/",
          "height": 483
        }
      },
      "source": [
        "quantidade_por_estado.plot.pie(y='quantidade',figsize=(8, 8),autopct='%0.1f%%', startangle=90)"
      ],
      "execution_count": 89,
      "outputs": [
        {
          "output_type": "execute_result",
          "data": {
            "text/plain": [
              "<matplotlib.axes._subplots.AxesSubplot at 0x7f339d7b4b38>"
            ]
          },
          "metadata": {
            "tags": []
          },
          "execution_count": 89
        },
        {
          "output_type": "display_data",
          "data": {
            "image/png": "[encoded data removed]",
            "text/plain": [
              "<Figure size 576x576 with 1 Axes>"
            ]
          },
          "metadata": {
            "tags": []
          }
        }
      ]
    },
    {
      "cell_type": "markdown",
      "metadata": {
        "id": "eNgLsv28CSAT"
      },
      "source": [
        "## Candidatos cassados ou cassados com recurso por partido"
      ]
    },
    {
      "cell_type": "code",
      "metadata": {
        "id": "oiOPL-CcCRsH",
        "outputId": "1f329c8a-4413-4c46-93ef-463def08ab37",
        "colab": {
          "base_uri": "https://localhost:8080/",
          "height": 793
        }
      },
      "source": [
        "quantidade_por_partido = dados['sigla_partido'].to_frame() \\\n",
        "                                               .reset_index() \\\n",
        "                                               .groupby(by='sigla_partido') \\\n",
        "                                               .count() \\\n",
        "                                               .sort_values(['index'], ascending=False) \\\n",
        "                                               \n",
        "\n",
        "quantidade_por_partido = quantidade_por_partido.reset_index()\n",
        "quantidade_por_partido.columns = ['partido', 'quantidade']\n",
        "quantidade_por_partido"
      ],
      "execution_count": 90,
      "outputs": [
        {
          "output_type": "execute_result",
          "data": {
            "text/html": [
              "<div>\n",
              "<style scoped>\n",
              "    .dataframe tbody tr th:only-of-type {\n",
              "        vertical-align: middle;\n",
              "    }\n",
              "\n",
              "    .dataframe tbody tr th {\n",
              "        vertical-align: top;\n",
              "    }\n",
              "\n",
              "    .dataframe thead th {\n",
              "        text-align: right;\n",
              "    }\n",
              "</style>\n",
              "<table border=\"1\" class=\"dataframe\">\n",
              "  <thead>\n",
              "    <tr style=\"text-align: right;\">\n",
              "      <th></th>\n",
              "      <th>partido</th>\n",
              "      <th>quantidade</th>\n",
              "    </tr>\n",
              "  </thead>\n",
              "  <tbody>\n",
              "    <tr>\n",
              "      <th>0</th>\n",
              "      <td>PTB</td>\n",
              "      <td>19</td>\n",
              "    </tr>\n",
              "    <tr>\n",
              "      <th>1</th>\n",
              "      <td>PR</td>\n",
              "      <td>11</td>\n",
              "    </tr>\n",
              "    <tr>\n",
              "      <th>2</th>\n",
              "      <td>PMDB</td>\n",
              "      <td>10</td>\n",
              "    </tr>\n",
              "    <tr>\n",
              "      <th>3</th>\n",
              "      <td>PSDB</td>\n",
              "      <td>10</td>\n",
              "    </tr>\n",
              "    <tr>\n",
              "      <th>4</th>\n",
              "      <td>PSD</td>\n",
              "      <td>10</td>\n",
              "    </tr>\n",
              "    <tr>\n",
              "      <th>5</th>\n",
              "      <td>PSB</td>\n",
              "      <td>9</td>\n",
              "    </tr>\n",
              "    <tr>\n",
              "      <th>6</th>\n",
              "      <td>PPS</td>\n",
              "      <td>9</td>\n",
              "    </tr>\n",
              "    <tr>\n",
              "      <th>7</th>\n",
              "      <td>PTC</td>\n",
              "      <td>8</td>\n",
              "    </tr>\n",
              "    <tr>\n",
              "      <th>8</th>\n",
              "      <td>PP</td>\n",
              "      <td>7</td>\n",
              "    </tr>\n",
              "    <tr>\n",
              "      <th>9</th>\n",
              "      <td>DEM</td>\n",
              "      <td>6</td>\n",
              "    </tr>\n",
              "    <tr>\n",
              "      <th>10</th>\n",
              "      <td>PMN</td>\n",
              "      <td>6</td>\n",
              "    </tr>\n",
              "    <tr>\n",
              "      <th>11</th>\n",
              "      <td>PT</td>\n",
              "      <td>6</td>\n",
              "    </tr>\n",
              "    <tr>\n",
              "      <th>12</th>\n",
              "      <td>PDT</td>\n",
              "      <td>5</td>\n",
              "    </tr>\n",
              "    <tr>\n",
              "      <th>13</th>\n",
              "      <td>PRB</td>\n",
              "      <td>5</td>\n",
              "    </tr>\n",
              "    <tr>\n",
              "      <th>14</th>\n",
              "      <td>PROS</td>\n",
              "      <td>3</td>\n",
              "    </tr>\n",
              "    <tr>\n",
              "      <th>15</th>\n",
              "      <td>PSC</td>\n",
              "      <td>2</td>\n",
              "    </tr>\n",
              "    <tr>\n",
              "      <th>16</th>\n",
              "      <td>PC do B</td>\n",
              "      <td>2</td>\n",
              "    </tr>\n",
              "    <tr>\n",
              "      <th>17</th>\n",
              "      <td>PSL</td>\n",
              "      <td>2</td>\n",
              "    </tr>\n",
              "    <tr>\n",
              "      <th>18</th>\n",
              "      <td>PV</td>\n",
              "      <td>2</td>\n",
              "    </tr>\n",
              "    <tr>\n",
              "      <th>19</th>\n",
              "      <td>PRP</td>\n",
              "      <td>1</td>\n",
              "    </tr>\n",
              "    <tr>\n",
              "      <th>20</th>\n",
              "      <td>PPL</td>\n",
              "      <td>1</td>\n",
              "    </tr>\n",
              "    <tr>\n",
              "      <th>21</th>\n",
              "      <td>PT do B</td>\n",
              "      <td>1</td>\n",
              "    </tr>\n",
              "    <tr>\n",
              "      <th>22</th>\n",
              "      <td>PMB</td>\n",
              "      <td>1</td>\n",
              "    </tr>\n",
              "    <tr>\n",
              "      <th>23</th>\n",
              "      <td>PHS</td>\n",
              "      <td>1</td>\n",
              "    </tr>\n",
              "  </tbody>\n",
              "</table>\n",
              "</div>"
            ],
            "text/plain": [
              "    partido  quantidade\n",
              "0       PTB          19\n",
              "1        PR          11\n",
              "2      PMDB          10\n",
              "3      PSDB          10\n",
              "4       PSD          10\n",
              "5       PSB           9\n",
              "6       PPS           9\n",
              "7       PTC           8\n",
              "8        PP           7\n",
              "9       DEM           6\n",
              "10      PMN           6\n",
              "11       PT           6\n",
              "12      PDT           5\n",
              "13      PRB           5\n",
              "14     PROS           3\n",
              "15      PSC           2\n",
              "16  PC do B           2\n",
              "17      PSL           2\n",
              "18       PV           2\n",
              "19      PRP           1\n",
              "20      PPL           1\n",
              "21  PT do B           1\n",
              "22      PMB           1\n",
              "23      PHS           1"
            ]
          },
          "metadata": {
            "tags": []
          },
          "execution_count": 90
        }
      ]
    },
    {
      "cell_type": "code",
      "metadata": {
        "id": "a1DdJrJ-jLLF",
        "outputId": "3257d26e-e2c2-43ca-ba5b-434db2413f16",
        "colab": {
          "base_uri": "https://localhost:8080/",
          "height": 483
        }
      },
      "source": [
        "quantidade_por_partido.plot.pie(y='quantidade',figsize=(8, 8),autopct='%0.1f%%', startangle=90)"
      ],
      "execution_count": 91,
      "outputs": [
        {
          "output_type": "execute_result",
          "data": {
            "text/plain": [
              "<matplotlib.axes._subplots.AxesSubplot at 0x7f339d6f3be0>"
            ]
          },
          "metadata": {
            "tags": []
          },
          "execution_count": 91
        },
        {
          "output_type": "display_data",
          "data": {
            "image/png": "[encoded data removed]",
            "text/plain": [
              "<Figure size 576x576 with 1 Axes>"
            ]
          },
          "metadata": {
            "tags": []
          }
        }
      ]
    },
    {
      "cell_type": "markdown",
      "metadata": {
        "id": "Q9emuBZdCdaD"
      },
      "source": [
        "## Candidatos cassados ou cassados com recurso e eleitos"
      ]
    },
    {
      "cell_type": "code",
      "metadata": {
        "id": "2YSZmQzxCc2B",
        "outputId": "856041f7-6621-4132-9854-321355f6f7fa",
        "colab": {
          "base_uri": "https://localhost:8080/",
          "height": 173
        }
      },
      "source": [
        "descricao = dados['desc_sit_tot_turno'].to_frame() \\\n",
        "                                       .reset_index() \\\n",
        "                                       .groupby(by='desc_sit_tot_turno') \\\n",
        "                                       .count() \\\n",
        "                                       .sort_values(['index'], ascending=False)\n",
        "\n",
        "descricao = descricao.reset_index()\n",
        "descricao.columns = ['descrição', 'quantidade']\n",
        "descricao"
      ],
      "execution_count": 92,
      "outputs": [
        {
          "output_type": "execute_result",
          "data": {
            "text/html": [
              "<div>\n",
              "<style scoped>\n",
              "    .dataframe tbody tr th:only-of-type {\n",
              "        vertical-align: middle;\n",
              "    }\n",
              "\n",
              "    .dataframe tbody tr th {\n",
              "        vertical-align: top;\n",
              "    }\n",
              "\n",
              "    .dataframe thead th {\n",
              "        text-align: right;\n",
              "    }\n",
              "</style>\n",
              "<table border=\"1\" class=\"dataframe\">\n",
              "  <thead>\n",
              "    <tr style=\"text-align: right;\">\n",
              "      <th></th>\n",
              "      <th>descrição</th>\n",
              "      <th>quantidade</th>\n",
              "    </tr>\n",
              "  </thead>\n",
              "  <tbody>\n",
              "    <tr>\n",
              "      <th>0</th>\n",
              "      <td>NÃO ELEITO</td>\n",
              "      <td>108</td>\n",
              "    </tr>\n",
              "    <tr>\n",
              "      <th>1</th>\n",
              "      <td>ELEITO</td>\n",
              "      <td>16</td>\n",
              "    </tr>\n",
              "    <tr>\n",
              "      <th>2</th>\n",
              "      <td>ELEITO POR QP</td>\n",
              "      <td>7</td>\n",
              "    </tr>\n",
              "    <tr>\n",
              "      <th>3</th>\n",
              "      <td>SUPLENTE</td>\n",
              "      <td>3</td>\n",
              "    </tr>\n",
              "  </tbody>\n",
              "</table>\n",
              "</div>"
            ],
            "text/plain": [
              "       descrição  quantidade\n",
              "0     NÃO ELEITO         108\n",
              "1         ELEITO          16\n",
              "2  ELEITO POR QP           7\n",
              "3       SUPLENTE           3"
            ]
          },
          "metadata": {
            "tags": []
          },
          "execution_count": 92
        }
      ]
    },
    {
      "cell_type": "code",
      "metadata": {
        "id": "JPpUNQtMjVXk",
        "outputId": "2c3b8e5f-27cd-42f8-c8ae-7771f568fceb",
        "colab": {
          "base_uri": "https://localhost:8080/",
          "height": 483
        }
      },
      "source": [
        "descricao.plot.pie(y='quantidade',figsize=(8, 8),autopct='%0.1f%%', startangle=90)"
      ],
      "execution_count": 93,
      "outputs": [
        {
          "output_type": "execute_result",
          "data": {
            "text/plain": [
              "<matplotlib.axes._subplots.AxesSubplot at 0x7f339d7bfd30>"
            ]
          },
          "metadata": {
            "tags": []
          },
          "execution_count": 93
        },
        {
          "output_type": "display_data",
          "data": {
            "image/png": "[encoded data removed]",
            "text/plain": [
              "<Figure size 576x576 with 1 Axes>"
            ]
          },
          "metadata": {
            "tags": []
          }
        }
      ]
    },
    {
      "cell_type": "markdown",
      "metadata": {
        "id": "nNypOIhgCoUJ"
      },
      "source": [
        "## Candidatos cassados ou cassados agrupados por sexo"
      ]
    },
    {
      "cell_type": "code",
      "metadata": {
        "id": "aU8gg2EkCoEz",
        "outputId": "d7daa056-eca4-4e9e-d914-9038980cfd5b",
        "colab": {
          "base_uri": "https://localhost:8080/",
          "height": 111
        }
      },
      "source": [
        "orientacao = dados['descricao_sexo'].to_frame() \\\n",
        "                                    .reset_index() \\\n",
        "                                    .groupby(by='descricao_sexo') \\\n",
        "                                    .count() \\\n",
        "                                    .sort_values(['index'], ascending=False)\n",
        "\n",
        "orientacao = orientacao.reset_index()\n",
        "orientacao.columns = ['orientação sexual', 'quantidade']\n",
        "orientacao"
      ],
      "execution_count": 94,
      "outputs": [
        {
          "output_type": "execute_result",
          "data": {
            "text/html": [
              "<div>\n",
              "<style scoped>\n",
              "    .dataframe tbody tr th:only-of-type {\n",
              "        vertical-align: middle;\n",
              "    }\n",
              "\n",
              "    .dataframe tbody tr th {\n",
              "        vertical-align: top;\n",
              "    }\n",
              "\n",
              "    .dataframe thead th {\n",
              "        text-align: right;\n",
              "    }\n",
              "</style>\n",
              "<table border=\"1\" class=\"dataframe\">\n",
              "  <thead>\n",
              "    <tr style=\"text-align: right;\">\n",
              "      <th></th>\n",
              "      <th>orientação sexual</th>\n",
              "      <th>quantidade</th>\n",
              "    </tr>\n",
              "  </thead>\n",
              "  <tbody>\n",
              "    <tr>\n",
              "      <th>0</th>\n",
              "      <td>MASCULINO</td>\n",
              "      <td>102</td>\n",
              "    </tr>\n",
              "    <tr>\n",
              "      <th>1</th>\n",
              "      <td>FEMININO</td>\n",
              "      <td>35</td>\n",
              "    </tr>\n",
              "  </tbody>\n",
              "</table>\n",
              "</div>"
            ],
            "text/plain": [
              "  orientação sexual  quantidade\n",
              "0         MASCULINO         102\n",
              "1          FEMININO          35"
            ]
          },
          "metadata": {
            "tags": []
          },
          "execution_count": 94
        }
      ]
    },
    {
      "cell_type": "code",
      "metadata": {
        "id": "n-1Rn2t5jhFM",
        "outputId": "34f61fa1-e7cb-4428-8a74-4ba2ceede21a",
        "colab": {
          "base_uri": "https://localhost:8080/",
          "height": 483
        }
      },
      "source": [
        "orientacao.plot.pie(y='quantidade',figsize=(8, 8),autopct='%0.1f%%', startangle=90)"
      ],
      "execution_count": 95,
      "outputs": [
        {
          "output_type": "execute_result",
          "data": {
            "text/plain": [
              "<matplotlib.axes._subplots.AxesSubplot at 0x7f339d5ff278>"
            ]
          },
          "metadata": {
            "tags": []
          },
          "execution_count": 95
        },
        {
          "output_type": "display_data",
          "data": {
            "image/png": "[encoded data removed]",
            "text/plain": [
              "<Figure size 576x576 with 1 Axes>"
            ]
          },
          "metadata": {
            "tags": []
          }
        }
      ]
    },
    {
      "cell_type": "markdown",
      "metadata": {
        "id": "aFqO5QATCt6M"
      },
      "source": [
        "## Candidatos cassados e que foram eleitos. \n",
        "### Obs.: A maioria das cidades dessa lista possuem prefeitos e vice-prefeitos cassados e estão no Estado de São Paulo"
      ]
    },
    {
      "cell_type": "code",
      "metadata": {
        "id": "FT2RBj5LC00W",
        "outputId": "af60d479-ce9f-4211-e6dc-3ee1cba0b95a",
        "colab": {
          "base_uri": "https://localhost:8080/",
          "height": 545
        }
      },
      "source": [
        "eleitos = dados.query('desc_sit_tot_turno == \"ELEITO\"') \\\n",
        "               .sort_values(['descricao_ue'], ascending=False)\n",
        "\n",
        "eleitos = eleitos.drop(columns=['cpf_candidato','num_turno','numero_candidato','data_nascimento','descricao_sexo'])\n",
        "eleitos.columns = ['ano', 'uf', 'municipio', 'cargo', 'partido', 'nome', 'nome na urna', 'situação', 'descrição']\n",
        "eleitos"
      ],
      "execution_count": 96,
      "outputs": [
        {
          "output_type": "execute_result",
          "data": {
            "text/html": [
              "<div>\n",
              "<style scoped>\n",
              "    .dataframe tbody tr th:only-of-type {\n",
              "        vertical-align: middle;\n",
              "    }\n",
              "\n",
              "    .dataframe tbody tr th {\n",
              "        vertical-align: top;\n",
              "    }\n",
              "\n",
              "    .dataframe thead th {\n",
              "        text-align: right;\n",
              "    }\n",
              "</style>\n",
              "<table border=\"1\" class=\"dataframe\">\n",
              "  <thead>\n",
              "    <tr style=\"text-align: right;\">\n",
              "      <th></th>\n",
              "      <th>ano</th>\n",
              "      <th>uf</th>\n",
              "      <th>municipio</th>\n",
              "      <th>cargo</th>\n",
              "      <th>partido</th>\n",
              "      <th>nome</th>\n",
              "      <th>nome na urna</th>\n",
              "      <th>situação</th>\n",
              "      <th>descrição</th>\n",
              "    </tr>\n",
              "  </thead>\n",
              "  <tbody>\n",
              "    <tr>\n",
              "      <th>100</th>\n",
              "      <td>2016</td>\n",
              "      <td>SP</td>\n",
              "      <td>TURMALINA</td>\n",
              "      <td>PREFEITO</td>\n",
              "      <td>PTB</td>\n",
              "      <td>FERNANDA DE MENEZES ANDRÉA</td>\n",
              "      <td>FERNANDA</td>\n",
              "      <td>CASSADO</td>\n",
              "      <td>ELEITO</td>\n",
              "    </tr>\n",
              "    <tr>\n",
              "      <th>101</th>\n",
              "      <td>2016</td>\n",
              "      <td>SP</td>\n",
              "      <td>TURMALINA</td>\n",
              "      <td>VICE-PREFEITO</td>\n",
              "      <td>PTB</td>\n",
              "      <td>ALCIR ANTONIO DE AQUINO</td>\n",
              "      <td>ALCIR</td>\n",
              "      <td>CASSADO</td>\n",
              "      <td>ELEITO</td>\n",
              "    </tr>\n",
              "    <tr>\n",
              "      <th>33</th>\n",
              "      <td>2016</td>\n",
              "      <td>SP</td>\n",
              "      <td>SANTA CRUZ DAS PALMEIRAS</td>\n",
              "      <td>PREFEITO</td>\n",
              "      <td>PTB</td>\n",
              "      <td>THIAGO DE OLIVEIRA</td>\n",
              "      <td>THIAGO DO TRABALHADOR</td>\n",
              "      <td>CASSADO COM RECURSO</td>\n",
              "      <td>ELEITO</td>\n",
              "    </tr>\n",
              "    <tr>\n",
              "      <th>34</th>\n",
              "      <td>2016</td>\n",
              "      <td>SP</td>\n",
              "      <td>SANTA CRUZ DAS PALMEIRAS</td>\n",
              "      <td>VICE-PREFEITO</td>\n",
              "      <td>PTB</td>\n",
              "      <td>JOSIAS RABELO JUNIOR</td>\n",
              "      <td>DR. JOSIAS</td>\n",
              "      <td>CASSADO COM RECURSO</td>\n",
              "      <td>ELEITO</td>\n",
              "    </tr>\n",
              "    <tr>\n",
              "      <th>29</th>\n",
              "      <td>2016</td>\n",
              "      <td>SP</td>\n",
              "      <td>NOVA ODESSA</td>\n",
              "      <td>PREFEITO</td>\n",
              "      <td>PSDB</td>\n",
              "      <td>BENJAMIM BILL VIEIRA DE SOUZA</td>\n",
              "      <td>BILL</td>\n",
              "      <td>CASSADO COM RECURSO</td>\n",
              "      <td>ELEITO</td>\n",
              "    </tr>\n",
              "    <tr>\n",
              "      <th>30</th>\n",
              "      <td>2016</td>\n",
              "      <td>SP</td>\n",
              "      <td>NOVA ODESSA</td>\n",
              "      <td>VICE-PREFEITO</td>\n",
              "      <td>PPS</td>\n",
              "      <td>OSCAR BERGGREN NETO</td>\n",
              "      <td>OSCAR BERGGREN</td>\n",
              "      <td>CASSADO COM RECURSO</td>\n",
              "      <td>ELEITO</td>\n",
              "    </tr>\n",
              "    <tr>\n",
              "      <th>27</th>\n",
              "      <td>2016</td>\n",
              "      <td>SP</td>\n",
              "      <td>MONTE AZUL PAULISTA</td>\n",
              "      <td>PREFEITO</td>\n",
              "      <td>PSDB</td>\n",
              "      <td>PAULO SERGIO DAVID</td>\n",
              "      <td>PAULO DAVID</td>\n",
              "      <td>CASSADO COM RECURSO</td>\n",
              "      <td>ELEITO</td>\n",
              "    </tr>\n",
              "    <tr>\n",
              "      <th>28</th>\n",
              "      <td>2016</td>\n",
              "      <td>SP</td>\n",
              "      <td>MONTE AZUL PAULISTA</td>\n",
              "      <td>VICE-PREFEITO</td>\n",
              "      <td>DEM</td>\n",
              "      <td>FABIO JERONIMO MARQUES</td>\n",
              "      <td>FABINHO</td>\n",
              "      <td>CASSADO COM RECURSO</td>\n",
              "      <td>ELEITO</td>\n",
              "    </tr>\n",
              "    <tr>\n",
              "      <th>20</th>\n",
              "      <td>2016</td>\n",
              "      <td>SP</td>\n",
              "      <td>ITAPURA</td>\n",
              "      <td>PREFEITO</td>\n",
              "      <td>PP</td>\n",
              "      <td>FABIO DOURADO</td>\n",
              "      <td>FABIO DOURADO</td>\n",
              "      <td>CASSADO COM RECURSO</td>\n",
              "      <td>ELEITO</td>\n",
              "    </tr>\n",
              "    <tr>\n",
              "      <th>22</th>\n",
              "      <td>2016</td>\n",
              "      <td>SP</td>\n",
              "      <td>ITAPURA</td>\n",
              "      <td>VICE-PREFEITO</td>\n",
              "      <td>PRB</td>\n",
              "      <td>RODRIGO DE OLIVEIRA PRADO</td>\n",
              "      <td>RODRIGO PRADO</td>\n",
              "      <td>CASSADO COM RECURSO</td>\n",
              "      <td>ELEITO</td>\n",
              "    </tr>\n",
              "    <tr>\n",
              "      <th>18</th>\n",
              "      <td>2016</td>\n",
              "      <td>SP</td>\n",
              "      <td>IBATÉ</td>\n",
              "      <td>PREFEITO</td>\n",
              "      <td>PSDB</td>\n",
              "      <td>JOSE LUIZ PARELLA</td>\n",
              "      <td>ZE PARRELLA</td>\n",
              "      <td>CASSADO COM RECURSO</td>\n",
              "      <td>ELEITO</td>\n",
              "    </tr>\n",
              "    <tr>\n",
              "      <th>16</th>\n",
              "      <td>2016</td>\n",
              "      <td>SP</td>\n",
              "      <td>FLOREAL</td>\n",
              "      <td>PREFEITO</td>\n",
              "      <td>PSDB</td>\n",
              "      <td>JOÃO MANOEL DE CASTILHO</td>\n",
              "      <td>JOÃO MARITACA</td>\n",
              "      <td>CASSADO COM RECURSO</td>\n",
              "      <td>ELEITO</td>\n",
              "    </tr>\n",
              "    <tr>\n",
              "      <th>17</th>\n",
              "      <td>2016</td>\n",
              "      <td>SP</td>\n",
              "      <td>FLOREAL</td>\n",
              "      <td>VICE-PREFEITO</td>\n",
              "      <td>DEM</td>\n",
              "      <td>GILBERTO DE GRANDE</td>\n",
              "      <td>GILBERTO DE GRANDE</td>\n",
              "      <td>CASSADO COM RECURSO</td>\n",
              "      <td>ELEITO</td>\n",
              "    </tr>\n",
              "    <tr>\n",
              "      <th>4</th>\n",
              "      <td>2016</td>\n",
              "      <td>GO</td>\n",
              "      <td>CAMPINAÇU</td>\n",
              "      <td>PREFEITO</td>\n",
              "      <td>PP</td>\n",
              "      <td>MILSON ALVES MAGALHAES</td>\n",
              "      <td>MILSINHO</td>\n",
              "      <td>CASSADO COM RECURSO</td>\n",
              "      <td>ELEITO</td>\n",
              "    </tr>\n",
              "    <tr>\n",
              "      <th>15</th>\n",
              "      <td>2016</td>\n",
              "      <td>SP</td>\n",
              "      <td>CAJAMAR</td>\n",
              "      <td>VICE-PREFEITO</td>\n",
              "      <td>PC do B</td>\n",
              "      <td>DALETE DE OLIVEIRA</td>\n",
              "      <td>DALETE DE OLIVEIRA</td>\n",
              "      <td>CASSADO COM RECURSO</td>\n",
              "      <td>ELEITO</td>\n",
              "    </tr>\n",
              "    <tr>\n",
              "      <th>94</th>\n",
              "      <td>2016</td>\n",
              "      <td>SP</td>\n",
              "      <td>CAJAMAR</td>\n",
              "      <td>PREFEITO</td>\n",
              "      <td>PSB</td>\n",
              "      <td>ANA PAULA POLOTTO RIBAS DE ANDRADE</td>\n",
              "      <td>PAULA RIBAS</td>\n",
              "      <td>CASSADO</td>\n",
              "      <td>ELEITO</td>\n",
              "    </tr>\n",
              "  </tbody>\n",
              "</table>\n",
              "</div>"
            ],
            "text/plain": [
              "      ano  uf  ...             situação descrição\n",
              "100  2016  SP  ...              CASSADO    ELEITO\n",
              "101  2016  SP  ...              CASSADO    ELEITO\n",
              "33   2016  SP  ...  CASSADO COM RECURSO    ELEITO\n",
              "34   2016  SP  ...  CASSADO COM RECURSO    ELEITO\n",
              "29   2016  SP  ...  CASSADO COM RECURSO    ELEITO\n",
              "30   2016  SP  ...  CASSADO COM RECURSO    ELEITO\n",
              "27   2016  SP  ...  CASSADO COM RECURSO    ELEITO\n",
              "28   2016  SP  ...  CASSADO COM RECURSO    ELEITO\n",
              "20   2016  SP  ...  CASSADO COM RECURSO    ELEITO\n",
              "22   2016  SP  ...  CASSADO COM RECURSO    ELEITO\n",
              "18   2016  SP  ...  CASSADO COM RECURSO    ELEITO\n",
              "16   2016  SP  ...  CASSADO COM RECURSO    ELEITO\n",
              "17   2016  SP  ...  CASSADO COM RECURSO    ELEITO\n",
              "4    2016  GO  ...  CASSADO COM RECURSO    ELEITO\n",
              "15   2016  SP  ...  CASSADO COM RECURSO    ELEITO\n",
              "94   2016  SP  ...              CASSADO    ELEITO\n",
              "\n",
              "[16 rows x 9 columns]"
            ]
          },
          "metadata": {
            "tags": []
          },
          "execution_count": 96
        }
      ]
    },
    {
      "cell_type": "markdown",
      "metadata": {
        "id": "WLjgXrhSufqh"
      },
      "source": [
        "## Municípios com prefeito e vice-prefeito eleitos e cassados"
      ]
    },
    {
      "cell_type": "code",
      "metadata": {
        "id": "8wIPQFVYjvFv",
        "outputId": "b594c47e-b7fa-4a11-c4d0-83a06a54efc6",
        "colab": {
          "base_uri": "https://localhost:8080/",
          "height": 266
        }
      },
      "source": [
        "eleitos_aux = eleitos.drop(columns=['cargo','partido','nome','nome na urna','situação'])\n",
        "municipios_com_vice_e_prefeito = eleitos_aux[eleitos_aux.duplicated()]\n",
        "municipios_com_vice_e_prefeito"
      ],
      "execution_count": 97,
      "outputs": [
        {
          "output_type": "execute_result",
          "data": {
            "text/html": [
              "<div>\n",
              "<style scoped>\n",
              "    .dataframe tbody tr th:only-of-type {\n",
              "        vertical-align: middle;\n",
              "    }\n",
              "\n",
              "    .dataframe tbody tr th {\n",
              "        vertical-align: top;\n",
              "    }\n",
              "\n",
              "    .dataframe thead th {\n",
              "        text-align: right;\n",
              "    }\n",
              "</style>\n",
              "<table border=\"1\" class=\"dataframe\">\n",
              "  <thead>\n",
              "    <tr style=\"text-align: right;\">\n",
              "      <th></th>\n",
              "      <th>ano</th>\n",
              "      <th>uf</th>\n",
              "      <th>municipio</th>\n",
              "      <th>descrição</th>\n",
              "    </tr>\n",
              "  </thead>\n",
              "  <tbody>\n",
              "    <tr>\n",
              "      <th>101</th>\n",
              "      <td>2016</td>\n",
              "      <td>SP</td>\n",
              "      <td>TURMALINA</td>\n",
              "      <td>ELEITO</td>\n",
              "    </tr>\n",
              "    <tr>\n",
              "      <th>34</th>\n",
              "      <td>2016</td>\n",
              "      <td>SP</td>\n",
              "      <td>SANTA CRUZ DAS PALMEIRAS</td>\n",
              "      <td>ELEITO</td>\n",
              "    </tr>\n",
              "    <tr>\n",
              "      <th>30</th>\n",
              "      <td>2016</td>\n",
              "      <td>SP</td>\n",
              "      <td>NOVA ODESSA</td>\n",
              "      <td>ELEITO</td>\n",
              "    </tr>\n",
              "    <tr>\n",
              "      <th>28</th>\n",
              "      <td>2016</td>\n",
              "      <td>SP</td>\n",
              "      <td>MONTE AZUL PAULISTA</td>\n",
              "      <td>ELEITO</td>\n",
              "    </tr>\n",
              "    <tr>\n",
              "      <th>22</th>\n",
              "      <td>2016</td>\n",
              "      <td>SP</td>\n",
              "      <td>ITAPURA</td>\n",
              "      <td>ELEITO</td>\n",
              "    </tr>\n",
              "    <tr>\n",
              "      <th>17</th>\n",
              "      <td>2016</td>\n",
              "      <td>SP</td>\n",
              "      <td>FLOREAL</td>\n",
              "      <td>ELEITO</td>\n",
              "    </tr>\n",
              "    <tr>\n",
              "      <th>94</th>\n",
              "      <td>2016</td>\n",
              "      <td>SP</td>\n",
              "      <td>CAJAMAR</td>\n",
              "      <td>ELEITO</td>\n",
              "    </tr>\n",
              "  </tbody>\n",
              "</table>\n",
              "</div>"
            ],
            "text/plain": [
              "      ano  uf                 municipio descrição\n",
              "101  2016  SP                 TURMALINA    ELEITO\n",
              "34   2016  SP  SANTA CRUZ DAS PALMEIRAS    ELEITO\n",
              "30   2016  SP               NOVA ODESSA    ELEITO\n",
              "28   2016  SP       MONTE AZUL PAULISTA    ELEITO\n",
              "22   2016  SP                   ITAPURA    ELEITO\n",
              "17   2016  SP                   FLOREAL    ELEITO\n",
              "94   2016  SP                   CAJAMAR    ELEITO"
            ]
          },
          "metadata": {
            "tags": []
          },
          "execution_count": 97
        }
      ]
    }
  ]
}